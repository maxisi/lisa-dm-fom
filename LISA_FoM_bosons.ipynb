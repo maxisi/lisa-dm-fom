{
 "cells": [
  {
   "cell_type": "code",
   "execution_count": 4,
   "metadata": {},
   "outputs": [
    {
     "name": "stdout",
     "output_type": "stream",
     "text": [
      "Populating the interactive namespace from numpy and matplotlib\n"
     ]
    }
   ],
   "source": [
    "#%load_ext autoreload\n",
    "#%autoreload 2\n",
    "\n",
    "%pylab inline\n",
    "\n",
    "import sys\n",
    "from utils_bosons import * \n",
    "from matplotlib import ticker, cm\n",
    "from glob import glob\n",
    "import parse\n",
    "import collections\n",
    "import math\n",
    "from scipy import optimize\n",
    "\n",
    "mplparams = {\n",
    "    'text.usetex': True,  # use LaTeX for all text\n",
    "    'axes.linewidth': 1,  # set axes linewidths to 0.5\n",
    "    'axes.grid': False,  # add a grid\n",
    "    'axes.labelweight': 'normal',\n",
    "    'font.family': 'DejaVu Sans',\n",
    "    'font.size': 24\n",
    "    #'font.serif': 'Computer Modern Roman'\n",
    "}\n",
    "matplotlib.rcParams.update(mplparams)\n",
    "matplotlib.rcParams['figure.figsize'] = 8, 4.5\n",
    "\n",
    "cmap = 'magma'"
   ]
  },
  {
   "cell_type": "markdown",
   "metadata": {},
   "source": [
    "## Load PSDs"
   ]
  },
  {
   "cell_type": "code",
   "execution_count": 5,
   "metadata": {},
   "outputs": [
    {
     "name": "stdout",
     "output_type": "stream",
     "text": [
      "dict_keys(['scird_deg2', 'scird_deg1', 'scird'])\n"
     ]
    }
   ],
   "source": [
    "psd_path='./LISA_PSDs/S_h_{model}.txt'\n",
    "psd_paths=glob(psd_path.format(model='*'))\n",
    "\n",
    "psd_data={}\n",
    "\n",
    "for path in psd_paths:\n",
    "    label = parse.parse(psd_path, path)['model']\n",
    "    psd_data[label] = np.loadtxt(path)\n",
    "    \n",
    "print(psd_data.keys())"
   ]
  },
  {
   "cell_type": "markdown",
   "metadata": {},
   "source": [
    "## Load mass functions"
   ]
  },
  {
   "cell_type": "code",
   "execution_count": 6,
   "metadata": {},
   "outputs": [],
   "source": [
    "data_path='./BH_population/dnOverdAdLogM_z={redshift}.dat'\n",
    "paths=glob(data_path.format(redshift='*'))\n",
    "\n",
    "data_tmp = {}\n",
    "data = {}\n",
    "\n",
    "for path in np.sort(paths):\n",
    "    label = parse.parse(data_path, path)['redshift']\n",
    "    data_tmp[label] = np.loadtxt(path)\n",
    "    redshift_col=np.full(len(data_tmp[label]), float(label))\n",
    "    data[label] = np.column_stack((data_tmp[label], redshift_col))\n",
    "    data_ord = collections.OrderedDict(data)\n",
    "    \n",
    "#put z=0 in first place and stack everything together, at the end columns should be:\n",
    "#(0) log10M (1) spin (2) redshift (4) dn/(dlog10M dchi)\n",
    "data_ord.move_to_end('0',last=False)\n",
    "data_all=np.vstack(list(data_ord.values()))\n",
    "data_all[:,[2, 3]]=data_all[:,[3, 2]]"
   ]
  },
  {
   "cell_type": "markdown",
   "metadata": {},
   "source": [
    "## Waterfall plots"
   ]
  },
  {
   "cell_type": "code",
   "execution_count": 9,
   "metadata": {},
   "outputs": [],
   "source": [
    "logMmin=4\n",
    "logMmax=9\n",
    "zmin=0.001\n",
    "zmax=2\n",
    "\n",
    "chi_bh=0.9\n",
    "alpha=0.3\n",
    "lgw=2\n",
    "\n",
    "fmin=1e-4\n",
    "Tobs=4\n",
    "gal=True\n",
    "\n",
    "SNRarray=[]\n",
    "\n",
    "for z in np.linspace(zmin,zmax, num=200):\n",
    "    for log10mbh in np.linspace(logMmin, logMmax, num=50):\n",
    "\n",
    "\n",
    "        cloud = gwaxion.BosonCloud.from_parameters(1, 1, 0, alpha=alpha, m_bh=10**log10mbh, chi_bh=chi_bh, \n",
    "                                               evolve_params={'y_0': 1E-10})\n",
    "       \n",
    "        hgwr, fgw = cloud.gw(lgw).h0r, cloud.gw(lgw).f\n",
    "        distance=cosmo.comoving_distance(z).value*1e6*gwaxion.PC_SI\n",
    "        h0=np.sqrt(5/(4*np.pi))*hgwr/distance #see my notes\n",
    "        hav=h0*np.sqrt(4/5) #see eq. 16 in https://arxiv.org/pdf/1803.01944.pdf\n",
    "    \n",
    "        fdetector=fgw/(1+z) #frequency at the detector\n",
    "        tgw=cloud.get_life_time([lgw,lgw])\n",
    "        tgwredshift=tgw*(1+z) #take into account cosmological redshift in duration of the signal\n",
    "        \n",
    "        SNR=SNRav(hav=hav, f=fdetector,PSD=psd_data['scird'], tgw=tgwredshift, Tobs = Tobs, gal=gal, fmin=fmin)\n",
    "        if SNR==0:\n",
    "            SNR=1e-10 # this is to avoid errors when doing the waterfall plot\n",
    "        \n",
    "        SNRarray.append([log10mbh,z,SNR,hav])\n",
    "        #print(log10mbh,z,SNRav(hav=hav, fdetector=fdetector, PSD=psd_data['scird'], tgw=tgw, Tobs = 4, gal=True))\n"
   ]
  },
  {
   "cell_type": "code",
   "execution_count": 10,
   "metadata": {},
   "outputs": [
    {
     "data": {
      "image/png": "[encoded data removed]",
      "text/plain": [
       "<Figure size 720x576 with 3 Axes>"
      ]
     },
     "metadata": {
      "needs_background": "light"
     },
     "output_type": "display_data"
    }
   ],
   "source": [
    "m_b=np.array([1e-15,1e-16,1e-17,1e-18,1e-19])\n",
    "log10vec=np.vectorize(math.log10)\n",
    "mass_list = np.array(SNRarray).T[0,:]\n",
    "redshift_list = np.array(SNRarray).T[1,:]\n",
    "snr_list = np.array(SNRarray).T[2,:]\n",
    "\n",
    "rangec =[10,20,50,100,200,500,1000,50000]\n",
    "\n",
    "fig, ax = plt.subplots(1, figsize=(10,8))\n",
    "ax2 = ax.twiny()\n",
    "\n",
    "CS = plt.tricontourf(mass_list, redshift_list, snr_list, \n",
    "                     levels=rangec,cmap='magma', origin='lower', vmin=10, vmax=2000, locator=ticker.LogLocator())\n",
    "cb = plt.colorbar(CS, ticks=rangec)\n",
    "cb.ax.set_yticklabels(['10', '20', '50','100','200','500','1000',''])  # vertically oriented colorbar\n",
    "cb.set_label(label=r\"SNR\", labelpad=-50, y=1.05, rotation=0)\n",
    "\n",
    "ax.set_xlabel(r\"$\\log_{10}(M/M_{\\odot})$\")\n",
    "ax.set_ylabel(r\"$z$\")\n",
    "ax.set_xlim([4,9])\n",
    "plt.text(6.8, 1.8, r'$\\chi_i=0.95,\\,\\,\\alpha=0.3$')\n",
    "plt.text(6.8, 1.6, r'$T_{\\rm obs}=4\\,{\\rm years}$')\n",
    "\n",
    "ax2.set_xlim(ax.get_xlim())\n",
    "new_tick_locations = log10vec(alpha*gwaxion.MPL_SI**2/(m_b*gwaxion.EV_SI/gwaxion.C_SI**2)/gwaxion.MSUN_SI)\n",
    "ax2.set_xticks(new_tick_locations)\n",
    "ax2.set_xticklabels([-15,-16,-17,-18,-19]) #(list(log10vec(m_b)))\n",
    "ax2.set_xlabel(r'$\\log_{10}(m_b/{\\rm eV})$',fontsize=20)\n",
    "\n",
    "plt.minorticks_on()\n",
    "\n",
    "#plot_file_name = './Plots/waterfall_LISA_fmin10min4.pdf'\n",
    "#plt.savefig(plot_file_name, bbox_inches='tight')\n",
    "plt.show()"
   ]
  },
  {
   "cell_type": "code",
   "execution_count": 11,
   "metadata": {},
   "outputs": [],
   "source": [
    "SNRarray=[]\n",
    "\n",
    "z=0.5\n",
    "\n",
    "for log10mbh in np.linspace(logMmin, logMmax, num=50):\n",
    "\n",
    "    cloud = gwaxion.BosonCloud.from_parameters(1, 1, 0, alpha=alpha, m_bh=10**log10mbh, chi_bh=chi_bh, \n",
    "                                               evolve_params={'y_0': 1E-10})\n",
    "    hgwr, fgw = cloud.gw(lgw).h0r, cloud.gw(lgw).f\n",
    "    distance=cosmo.comoving_distance(z).value*1e6*gwaxion.PC_SI\n",
    "    h0=np.sqrt(5/(4*np.pi))*hgwr/distance #see notes\n",
    "    hav=h0*np.sqrt(4/5) #see eq. 16 in https://arxiv.org/pdf/1803.01944.pdf\n",
    "    \n",
    "    fdetector=fgw/(1+z) #frequency at the detector\n",
    "    tgw=cloud.get_life_time([lgw,lgw])\n",
    "    tgwredshift=tgw*(1+z) #take into account cosmological redshift in duration of the signal\n",
    "        \n",
    "    SNR=SNRav(hav=hav, f=fdetector,PSD=psd_data['scird'], tgw=tgwredshift, Tobs = 4, gal=True)\n",
    "         \n",
    "    SNRarray.append([log10mbh,SNR])"
   ]
  },
  {
   "cell_type": "code",
   "execution_count": 12,
   "metadata": {},
   "outputs": [
    {
     "name": "stdout",
     "output_type": "stream",
     "text": [
      "Detectable range at z=0.50 is mb=[5.00e-18,4.44e-17]\n"
     ]
    }
   ],
   "source": [
    "SNRcut=10\n",
    "bounds = interpolate.interp1d(np.array(SNRarray)[:,0],np.array(SNRarray)[:,1]-SNRcut, kind='slinear')\n",
    "SNRfunc = lambda x: bounds(x)\n",
    "\n",
    "lower=optimize.newton(SNRfunc, 7.6)\n",
    "upper=optimize.newton(SNRfunc, 5.5)\n",
    "\n",
    "lowermb=alpha*gwaxion.MPL_SI**2/(10**lower*gwaxion.MSUN_SI)/(gwaxion.EV_SI/gwaxion.C_SI**2)\n",
    "uppermb=alpha*gwaxion.MPL_SI**2/(10**upper*gwaxion.MSUN_SI)/(gwaxion.EV_SI/gwaxion.C_SI**2)\n",
    "\n",
    "print(\"Detectable range at z=%.2f is mb=[%.2e,%.2e]\"%(z,lowermb,uppermb))"
   ]
  },
  {
   "cell_type": "markdown",
   "metadata": {},
   "source": [
    "## Compute stochastic background"
   ]
  },
  {
   "cell_type": "code",
   "execution_count": 7,
   "metadata": {},
   "outputs": [
    {
     "name": "stderr",
     "output_type": "stream",
     "text": [
      "/Users/richardbrito/opt/anaconda3/envs/lisa-dm-fom/lib/python3.7/site-packages/gwaxion/physics.py:265: RuntimeWarning: invalid value encountered in sqrt\n",
      "  self.rp_natural = 1 + np.sqrt(1 - self.chi**2)\n",
      "/Users/richardbrito/opt/anaconda3/envs/lisa-dm-fom/lib/python3.7/site-packages/gwaxion/physics.py:266: RuntimeWarning: invalid value encountered in sqrt\n",
      "  self.rm_natural = 1 - np.sqrt(1 - self.chi**2)\n"
     ]
    },
    {
     "name": "stdout",
     "output_type": "stream",
     "text": [
      "mb=1.00e-19, SNR= 3, fmax=4.84e-05\n",
      "mb=1.62e-19, SNR=11, fmax=7.85e-05\n",
      "mb=2.64e-19, SNR=86, fmax=1.28e-04\n",
      "mb=4.28e-19, SNR=181, fmax=2.07e-04\n"
     ]
    },
    {
     "name": "stderr",
     "output_type": "stream",
     "text": [
      "/Users/richardbrito/Desktop/Projects/lisa-dm-fom/utils_bosons.py:173: IntegrationWarning: The occurrence of roundoff error is detected, which prevents \n",
      "  the requested tolerance from being achieved.  The error may be \n",
      "  underestimated.\n",
      "  SNRsq_1s=integrate.quad(integrand, fmin, fmax,**kwargs)\n"
     ]
    },
    {
     "name": "stdout",
     "output_type": "stream",
     "text": [
      "mb=6.95e-19, SNR=742, fmax=3.36e-04\n",
      "mb=1.13e-18, SNR=2349, fmax=5.46e-04\n",
      "mb=1.83e-18, SNR=7467, fmax=8.86e-04\n",
      "mb=2.98e-18, SNR=21495, fmax=1.44e-03\n",
      "mb=4.83e-18, SNR=48245, fmax=2.34e-03\n",
      "mb=7.85e-18, SNR=73091, fmax=3.80e-03\n",
      "mb=1.27e-17, SNR=63506, fmax=6.16e-03\n",
      "mb=2.07e-17, SNR=39298, fmax=1.00e-02\n",
      "mb=3.36e-17, SNR=15170, fmax=1.62e-02\n",
      "mb=5.46e-17, SNR=4599, fmax=2.64e-02\n",
      "mb=8.86e-17, SNR=1247, fmax=4.28e-02\n",
      "mb=1.44e-16, SNR=299, fmax=6.96e-02\n",
      "mb=2.34e-16, SNR=51, fmax=1.13e-01\n",
      "mb=3.79e-16, SNR= 6, fmax=1.83e-01\n",
      "mb=6.16e-16, SNR= 1, fmax=2.98e-01\n",
      "mb=1.00e-15, SNR= 0, fmax=4.84e-01\n"
     ]
    }
   ],
   "source": [
    "logMmin=min(data_all[:,0])\n",
    "#logMmax=max(data_all[:,0])\n",
    "spinmin=0.0\n",
    "spinmax=0.998\n",
    "alphamax=0.5 #I use alphamax=0.5 because the maximum alpha=M*mb/Mpl**2 that gives an instability for m=1 is alpha~0.5\n",
    "\n",
    "OmegaGW_vs_mb={}\n",
    "\n",
    "for bosonmass in np.logspace(-19, -15, num=20):\n",
    "    \n",
    "    logMmax=min(max(data_all[:,0]),\n",
    "                math.log10(alphamax*gwaxion.MPL_SI**2/(bosonmass*gwaxion.EV_SI/gwaxion.C_SI**2)/gwaxion.MSUN_SI))\n",
    "    \n",
    "    lims=[[logMmin, logMmax], [spinmin, spinmax]]\n",
    "\n",
    "    cloud = gwaxion.BosonCloud.from_parameters(1, 1, 0, m_b=bosonmass, alpha=1e-3, chi_bh=0., evolve_params={'y_0': 1E-10}) \n",
    "    log10freqmax=math.log10(cloud.gw(2).f/(1+1e-3))\n",
    "    log10freqmin=math.log10(cloud.gw(2).f/(1+7.))\n",
    "    \n",
    "    OmegaGW_vs_mb[bosonmass]=OmegaGW(dn=data_all,m_b=bosonmass,PSD=psd_data['scird'],intlims=lims,\n",
    "                                     method='Riemann sum',nsumint=40j\n",
    "                             ,log10freqmin=log10freqmin,log10freqmax=log10freqmax,num_f=30,printresults=False) \n",
    "    SNR=SNRback(OmegaGW_vs_mb[bosonmass],psd_data['scird'],limit=1000)\n",
    "    \n",
    "    print('mb=%.2e, SNR=%2.f, fmax=%.2e'%(bosonmass, SNR ,cloud.gw(2).f))\n"
   ]
  },
  {
   "cell_type": "code",
   "execution_count": 8,
   "metadata": {},
   "outputs": [],
   "source": [
    "SNRlist=[]\n",
    "\n",
    "for m_b in OmegaGW_vs_mb.keys():\n",
    "\n",
    "    SNR=SNRback(OmegaGW_vs_mb[m_b],psd_data['scird'],limit=1000,gal=False)\n",
    "    SNRlist.append([m_b,SNR])\n",
    "SNRarray=np.array(SNRlist)"
   ]
  },
  {
   "cell_type": "code",
   "execution_count": 9,
   "metadata": {},
   "outputs": [
    {
     "name": "stdout",
     "output_type": "stream",
     "text": [
      "Detectable range is m_b=[1.5e-19,3.6e-16]\n"
     ]
    }
   ],
   "source": [
    "log10vec=np.vectorize(math.log10)\n",
    "\n",
    "SNRcut=10\n",
    "SNRint = interpolate.interp1d(-log10vec(SNRarray[:,0]),SNRarray[:,1]-SNRcut, kind='slinear')\n",
    "\n",
    "SNRfunc = lambda x: SNRint(x)\n",
    "\n",
    "lower=10**-optimize.newton(SNRfunc, 18)\n",
    "upper=10**-optimize.newton(SNRfunc, 16)\n",
    "print(\"Detectable range is m_b=[%.1e,%.1e]\"%(lower,upper))\n",
    "\n",
    "#plt.plot(SNRarray[:,0],SNRarray[:,1],'-',label=r'$T_{\\rm obs}=4\\,{\\rm years}$')\n",
    "SNRfunc = interpolate.interp1d(SNRarray[:,0],SNRarray[:,1], kind='nearest')\n",
    "mbfunc = np.logspace(-19, -15, num=1000)\n",
    "plt.plot(mbfunc,SNRfunc(mbfunc),'-',label=r'$T_{\\rm obs} = 4\\,\\,{\\rm years}$')\n",
    "\n",
    "plt.ylim([1e0,1e5])\n",
    "plt.xlim([1e-19,3e-15])\n",
    "\n",
    "plt.yscale('log')\n",
    "plt.xscale('log')\n",
    "plt.xticks([1e-19,1e-18,1e-17,1e-16,1e-15])\n",
    "plt.yticks([1e0,1e1,1e2,1e3,1e4,1e5])\n",
    "plt.axhline(y=SNRcut,linestyle='--',c='black')\n",
    "\n",
    "plt.legend(loc='upper right',fontsize=20)\n",
    "plt.xlabel(r'$m_b\\,({\\rm eV})$')\n",
    "plt.ylabel(r'${\\rm SNR}_{\\rm stoch}$')\n",
    "plt.text(6e-19, 20,'$m_b\\in$[%.1e, %.1e]'%(lower,upper),size=20)\n",
    "\n",
    "plt.grid(True, which='both', linestyle='-',alpha=0.3)\n",
    "plt.minorticks_on()\n",
    "\n",
    "plot_file_name = './Plots/SNR_background.pdf'\n",
    "plt.savefig(plot_file_name, bbox_inches='tight')\n",
    "plt.show()"
   ]
  },
  {
   "cell_type": "markdown",
   "metadata": {},
   "source": [
    "## Compute number of CWs observations *with* confusion noise from stochastic background computed above"
   ]
  },
  {
   "cell_type": "code",
   "execution_count": 10,
   "metadata": {},
   "outputs": [],
   "source": [
    "Sconf={}\n",
    "for m_b in OmegaGW_vs_mb.keys():\n",
    "    Sconf[m_b] = SfromOmegaGW(OmegaGW_vs_mb[m_b])\n",
    "    plt.loglog(Sconf[m_b][:,0],Sconf[m_b][:,1])\n",
    "plt.loglog(psd_data['scird'][:,0],psd_data['scird'][:,1])\n",
    "plt.ylim([1e-42,1e-27])\n",
    "plt.xlim([1e-5,2e-0])\n",
    "plt.show()"
   ]
  },
  {
   "cell_type": "code",
   "execution_count": 11,
   "metadata": {},
   "outputs": [],
   "source": [
    "Sn_mb={}\n",
    "model='scird'\n",
    "for m_b in Sconf.keys():\n",
    "    Sn_total=[]\n",
    "    Sn = interpolate.interp1d(psd_data[model][:,0],psd_data[model][:,1])\n",
    "    Sconfint = interpolate.interp1d(Sconf[m_b][:,0],Sconf[m_b][:,1])\n",
    "    \n",
    "    fmin=min(Sconf[m_b][:,0])\n",
    "    fmax=max(Sconf[m_b][:,0])\n",
    "  \n",
    "    for f in psd_data[model][:,0]:\n",
    "        if f < fmin or f > fmax:\n",
    "            Sn_total.append([f,Sn(f)])\n",
    "        else:\n",
    "            Sn_total.append([f,Sn(f)+Sconfint(f)])\n",
    "    \n",
    "    Sn_mb[m_b]=np.array(Sn_total)"
   ]
  },
  {
   "cell_type": "code",
   "execution_count": 13,
   "metadata": {},
   "outputs": [],
   "source": [
    "for m_b in OmegaGW_vs_mb.keys():\n",
    "    plt.loglog(Sn_mb[m_b][:,0],Sn_mb[m_b][:,1])\n",
    "plt.ylim([1e-42,1e-27])\n",
    "plt.xlim([1e-5,2e-0])\n",
    "plt.show()"
   ]
  },
  {
   "cell_type": "code",
   "execution_count": 14,
   "metadata": {},
   "outputs": [
    {
     "name": "stderr",
     "output_type": "stream",
     "text": [
      "/Users/richardbrito/opt/anaconda3/envs/lisa-dm-fom/lib/python3.7/site-packages/gwaxion/physics.py:265: RuntimeWarning: invalid value encountered in sqrt\n",
      "  self.rp_natural = 1 + np.sqrt(1 - self.chi**2)\n",
      "/Users/richardbrito/opt/anaconda3/envs/lisa-dm-fom/lib/python3.7/site-packages/gwaxion/physics.py:266: RuntimeWarning: invalid value encountered in sqrt\n",
      "  self.rm_natural = 1 - np.sqrt(1 - self.chi**2)\n"
     ]
    },
    {
     "name": "stdout",
     "output_type": "stream",
     "text": [
      "mb=1.00e-19, Nevents=0.01, std=0.00, chisq/dof=14.76, Q=0.00\n",
      "mb=1.62e-19, Nevents=0.00, std=0.00, chisq/dof=61.31, Q=0.00\n",
      "mb=2.64e-19, Nevents=1.41, std=0.03, chisq/dof=17.24, Q=0.00\n",
      "mb=4.28e-19, Nevents=4.16, std=0.13, chisq/dof=14.38, Q=0.00\n",
      "mb=6.95e-19, Nevents=8.83, std=0.14, chisq/dof=2.53, Q=0.01\n",
      "mb=1.13e-18, Nevents=23.06, std=0.48, chisq/dof=8.24, Q=0.00\n",
      "mb=1.83e-18, Nevents=31.55, std=0.59, chisq/dof=8.37, Q=0.00\n",
      "mb=2.98e-18, Nevents=92.42, std=1.12, chisq/dof=0.84, Q=0.58\n",
      "mb=4.83e-18, Nevents=581.94, std=6.48, chisq/dof=0.72, Q=0.69\n",
      "mb=7.85e-18, Nevents=1882.49, std=21.15, chisq/dof=0.69, Q=0.72\n",
      "mb=1.27e-17, Nevents=1439.57, std=21.36, chisq/dof=5.88, Q=0.00\n",
      "mb=2.07e-17, Nevents=1343.94, std=18.15, chisq/dof=0.93, Q=0.50\n",
      "mb=3.36e-17, Nevents=1473.07, std=14.33, chisq/dof=0.73, Q=0.68\n",
      "mb=5.46e-17, Nevents=1033.09, std=10.18, chisq/dof=1.19, Q=0.30\n",
      "mb=8.86e-17, Nevents=281.50, std=2.39, chisq/dof=0.73, Q=0.68\n",
      "mb=1.44e-16, Nevents=1.70, std=0.07, chisq/dof=10.43, Q=0.00\n",
      "mb=2.34e-16, Nevents=0.63, std=0.02, chisq/dof=5.48, Q=0.00\n",
      "mb=3.79e-16, Nevents=0.01, std=0.00, chisq/dof=10.20, Q=0.00\n",
      "mb=6.16e-16, Nevents=0.00, std=0.00, chisq/dof=8.17, Q=0.00\n",
      "mb=1.00e-15, Nevents=0.00, std=0.00, chisq/dof=0.00, Q=nan\n"
     ]
    }
   ],
   "source": [
    "Nvsmb=[]\n",
    "\n",
    "#logMmin=4  #min(data_all[:,0])\n",
    "#logMmax=9 #max(data_all[:,0])\n",
    "\n",
    "#note that in priciple you can set whatever you want for int limits. \n",
    "#but narrowing the limits using some previous knowledge about detectable range \n",
    "#helps with decreasing the error of the integration\n",
    "\n",
    "alphamin=0.01 #set by requiring instability timescale to be smaller than age of the Universe for all masses that we consider. \n",
    "alphamax=0.5 #set by maximum alpha=M*mb/Mpl**2 that gives instability for m=1\n",
    "spinmin=0.0\n",
    "spinmax=0.998\n",
    "zmin=0.001\n",
    "zmax=4 #max(data_all[:,2])\n",
    "\n",
    "for m_b in Sn_mb.keys():\n",
    "    logMmin=max(min(data_all[:,0]),\n",
    "                math.log10(alphamin*gwaxion.MPL_SI**2/(m_b*gwaxion.EV_SI/gwaxion.C_SI**2)/gwaxion.MSUN_SI))\n",
    "    logMmax=min(max(data_all[:,0]),\n",
    "                math.log10(alphamax*gwaxion.MPL_SI**2/(m_b*gwaxion.EV_SI/gwaxion.C_SI**2)/gwaxion.MSUN_SI))\n",
    "\n",
    "    lims=[[logMmin, logMmax], [spinmin, spinmax], [zmin, zmax]]\n",
    "    \n",
    "    Ntotal=Nevents(dn=data_all,m_b=m_b,PSD=Sn_mb[m_b],intlims=lims,neval=5e3,method='vegas',gal=True)\n",
    "    Nvsmb.append([m_b,Ntotal])\n",
    "    "
   ]
  },
  {
   "cell_type": "code",
   "execution_count": 17,
   "metadata": {},
   "outputs": [
    {
     "name": "stdout",
     "output_type": "stream",
     "text": [
      "Detectable range is m_b=[2.3e-19,2.0e-16]\n"
     ]
    }
   ],
   "source": [
    "log10vec=np.vectorize(math.log10)\n",
    "Narray=np.array(Nvsmb)\n",
    "\n",
    "Ncut=1\n",
    "Nroot = interpolate.interp1d(-log10vec(Narray[:,0]),Narray[:,1]-Ncut, kind='slinear')\n",
    "\n",
    "Nrfunc = lambda x: Nroot(x)\n",
    "mbfunc = np.logspace(-19, -15.5, num=1000)\n",
    "\n",
    "lower=10**-optimize.newton(Nrfunc, 18)\n",
    "upper=10**-optimize.newton(Nrfunc, 16)\n",
    "print(\"Detectable range is m_b=[%.1e,%.1e]\"%(lower,upper))\n",
    "\n",
    "Nfunc = interpolate.interp1d(Narray[:,0],Narray[:,1], kind='nearest')\n",
    "mbfunc = np.logspace(-19, -15.5, num=1000)\n",
    "\n",
    "#plt.plot(Narray[:,0],Narray[:,1],'-',label=r'$T_{\\rm obs}=4\\,{\\rm years}$')\n",
    "plt.plot(mbfunc,Nfunc(mbfunc),'-',label=r'$T_{\\rm obs} = 4\\,\\,{\\rm years}$')\n",
    "\n",
    "plt.ylim([1e0,1e4])\n",
    "plt.xlim([1e-19,1e-15])\n",
    "\n",
    "plt.yscale('log')\n",
    "plt.xscale('log')\n",
    "plt.xticks([1e-19,1e-18,1e-17,1e-16,1e-15])\n",
    "plt.yticks([1e0,1e1,1e2,1e3,1e4])\n",
    "#plt.axhline(y=1,linestyle='--',c='black')\n",
    "\n",
    "plt.legend(loc='upper left',fontsize=20)\n",
    "plt.xlabel(r'$m_b\\,({\\rm eV})$')\n",
    "plt.ylabel(r'${\\rm Resolvable\\,\\, sources}$')\n",
    "plt.text(3e-18, 10,r'${\\rm SNR}>10$',size=20)\n",
    "plt.text(1e-18, 4,'$m_b\\in$[%.1e, %.1e]'%(lower,upper),size=20)\n",
    "\n",
    "plt.grid(True, which='both', linestyle='-',alpha=0.3)\n",
    "plt.minorticks_on()\n",
    "\n",
    "plot_file_name = './Plots/Nevents.pdf'\n",
    "plt.savefig(plot_file_name, bbox_inches='tight')\n",
    "plt.show()"
   ]
  },
  {
   "cell_type": "markdown",
   "metadata": {},
   "source": [
    "## Compute number of CWs observations *without* confusion noise from stochastic background computed above (this is here for complenetess)\n"
   ]
  },
  {
   "cell_type": "code",
   "execution_count": 18,
   "metadata": {},
   "outputs": [
    {
     "name": "stderr",
     "output_type": "stream",
     "text": [
      "/Users/richardbrito/opt/anaconda3/envs/lisa-dm-fom/lib/python3.7/site-packages/gwaxion/physics.py:265: RuntimeWarning: invalid value encountered in sqrt\n",
      "  self.rp_natural = 1 + np.sqrt(1 - self.chi**2)\n",
      "/Users/richardbrito/opt/anaconda3/envs/lisa-dm-fom/lib/python3.7/site-packages/gwaxion/physics.py:266: RuntimeWarning: invalid value encountered in sqrt\n",
      "  self.rm_natural = 1 - np.sqrt(1 - self.chi**2)\n"
     ]
    },
    {
     "name": "stdout",
     "output_type": "stream",
     "text": [
      "mb=1.00e-19, Nevents=0.01, std=0.00, chisq/dof=107.35, Q=0.00\n",
      "mb=1.62e-19, Nevents=0.14, std=0.00, chisq/dof=25.69, Q=0.00\n",
      "mb=2.64e-19, Nevents=3.61, std=0.05, chisq/dof=0.75, Q=0.66\n",
      "mb=4.28e-19, Nevents=14.42, std=0.23, chisq/dof=1.31, Q=0.23\n",
      "mb=6.95e-19, Nevents=36.77, std=0.59, chisq/dof=1.09, Q=0.37\n",
      "mb=1.13e-18, Nevents=109.12, std=1.63, chisq/dof=4.21, Q=0.00\n",
      "mb=1.83e-18, Nevents=154.61, std=1.97, chisq/dof=1.05, Q=0.39\n",
      "mb=2.98e-18, Nevents=615.38, std=6.34, chisq/dof=2.32, Q=0.01\n",
      "mb=4.83e-18, Nevents=10656.82, std=104.21, chisq/dof=2.00, Q=0.03\n",
      "mb=7.85e-18, Nevents=50320.08, std=460.88, chisq/dof=1.37, Q=0.20\n",
      "mb=1.27e-17, Nevents=69562.62, std=557.05, chisq/dof=1.13, Q=0.34\n",
      "mb=2.07e-17, Nevents=42240.00, std=309.95, chisq/dof=0.64, Q=0.76\n",
      "mb=3.36e-17, Nevents=19096.57, std=136.91, chisq/dof=0.59, Q=0.81\n",
      "mb=5.46e-17, Nevents=4111.71, std=28.02, chisq/dof=1.51, Q=0.14\n",
      "mb=8.86e-17, Nevents=593.36, std=3.30, chisq/dof=0.71, Q=0.70\n",
      "mb=1.44e-16, Nevents=4.70, std=0.09, chisq/dof=2.13, Q=0.02\n",
      "mb=2.34e-16, Nevents=0.58, std=0.01, chisq/dof=14.42, Q=0.00\n",
      "mb=3.79e-16, Nevents=0.00, std=0.00, chisq/dof=2.94, Q=0.00\n",
      "mb=6.16e-16, Nevents=0.00, std=0.00, chisq/dof=0.00, Q=nan\n",
      "mb=1.00e-15, Nevents=0.00, std=0.00, chisq/dof=0.00, Q=nan\n"
     ]
    }
   ],
   "source": [
    "Nvsmb_noback=[]\n",
    "\n",
    "alphamin=0.01\n",
    "alphamax=0.5\n",
    "spinmin=0.0\n",
    "spinmax=0.998\n",
    "zmin=0.001\n",
    "zmax=4\n",
    "\n",
    "for m_b in Sn_mb.keys():\n",
    "    logMmin=max(min(data_all[:,0]),\n",
    "                math.log10(alphamin*gwaxion.MPL_SI**2/(m_b*gwaxion.EV_SI/gwaxion.C_SI**2)/gwaxion.MSUN_SI))\n",
    "    logMmax=min(max(data_all[:,0]),\n",
    "                math.log10(alphamax*gwaxion.MPL_SI**2/(m_b*gwaxion.EV_SI/gwaxion.C_SI**2)/gwaxion.MSUN_SI))\n",
    "\n",
    "    lims=[[logMmin, logMmax], [spinmin, spinmax], [zmin, zmax]]\n",
    "    \n",
    "    Ntotal=Nevents(dn=data_all,m_b=m_b,PSD=psd_data['scird'],intlims=lims,neval=5e3,method='vegas',gal=True)\n",
    "    Nvsmb_noback.append([m_b,Ntotal])"
   ]
  },
  {
   "cell_type": "code",
   "execution_count": 21,
   "metadata": {},
   "outputs": [
    {
     "name": "stdout",
     "output_type": "stream",
     "text": [
      "Detectable range is m_b=[1.8e-19,2.2e-16]\n"
     ]
    }
   ],
   "source": [
    "log10vec=np.vectorize(math.log10)\n",
    "Narray_noback=np.array(Nvsmb_noback)\n",
    "\n",
    "Ncut=1\n",
    "Nroot = interpolate.interp1d(-log10vec(Narray_noback[:,0]),Narray_noback[:,1]-Ncut, kind='slinear')\n",
    "\n",
    "Nrfunc = lambda x: Nroot(x)\n",
    "mbfunc = np.logspace(-19, -15.5, num=1000)\n",
    "\n",
    "lower=10**-optimize.newton(Nrfunc, 18)\n",
    "upper=10**-optimize.newton(Nrfunc, 16)\n",
    "print(\"Detectable range is m_b=[%.1e,%.1e]\"%(lower,upper))\n",
    "\n",
    "Nfunc_noback = interpolate.interp1d(Narray_noback[:,0],Narray_noback[:,1], kind='nearest')\n",
    "mbfunc = np.logspace(-19, -15.5, num=1000)\n",
    "\n",
    "#plt.plot(Narray[:,0],Narray[:,1],'-',label=r'$T_{\\rm obs}=4\\,{\\rm years}$')\n",
    "plt.plot(mbfunc,Nfunc_noback(mbfunc),'-',label=r'$T_{\\rm obs} = 4\\,\\,{\\rm years}$')\n",
    "\n",
    "plt.ylim([1e0,5e5])\n",
    "plt.xlim([1e-19,1e-15])\n",
    "\n",
    "plt.yscale('log')\n",
    "plt.xscale('log')\n",
    "plt.xticks([1e-19,1e-18,1e-17,1e-16,1e-15])\n",
    "plt.yticks([1e0,1e1,1e2,1e3,1e4,1e5])\n",
    "#plt.axhline(y=1,linestyle='--',c='black')\n",
    "\n",
    "plt.legend(loc='upper left',fontsize=20)\n",
    "plt.xlabel(r'$m_b\\,({\\rm eV})$')\n",
    "plt.ylabel(r'${\\rm Resolvable\\,\\, sources}$')\n",
    "plt.text(3e-18, 10,r'${\\rm SNR}>10$',size=20)\n",
    "plt.text(1e-18, 4,'$m_b\\in$[%.1e, %.1e]'%(lower,upper),size=20)\n",
    "\n",
    "plt.grid(True, which='both', linestyle='-',alpha=0.3)\n",
    "plt.minorticks_on()\n",
    "\n",
    "plot_file_name = './Plots/dm_Nevents_noback.pdf'\n",
    "plt.savefig(plot_file_name, bbox_inches='tight')\n",
    "plt.show()"
   ]
  },
  {
   "cell_type": "code",
   "execution_count": 23,
   "metadata": {
    "collapsed": true
   },
   "outputs": [
    {
     "data": {
      "image/png": "[encoded data removed]",
      "text/plain": [
       "<Figure size 432x288 with 1 Axes>"
      ]
     },
     "metadata": {
      "needs_background": "light"
     },
     "output_type": "display_data"
    }
   ],
   "source": [
    "%matplotlib inline\n",
    "\n",
    "plt.plot(mbfunc,Nfunc(mbfunc),'-',label='with back')\n",
    "plt.plot(mbfunc,Nfunc_noback(mbfunc),'-',label='no back')\n",
    "\n",
    "plt.ylim([1e0,5e5])\n",
    "plt.xlim([1e-19,1e-15])\n",
    "\n",
    "plt.yscale('log')\n",
    "plt.xscale('log')\n",
    "plt.xticks([1e-19,1e-18,1e-17,1e-16,1e-15])\n",
    "plt.yticks([1e0,1e1,1e2,1e3,1e4,1e5])\n",
    "#plt.axhline(y=1,linestyle='--',c='black')\n",
    "\n",
    "plt.legend(loc='upper left',fontsize=15)\n",
    "plt.xlabel(r'$m_b\\,({\\rm eV})$')\n",
    "plt.ylabel(r'${\\rm Resolvable\\,\\, sources}$')\n",
    "#plt.text(3e-18, 10,r'${\\rm SNR}>10$',size=20)\n",
    "\n",
    "plt.grid(True, which='both', linestyle='-',alpha=0.3)\n",
    "plt.minorticks_on()\n",
    "\n",
    "plt.show()"
   ]
  },
  {
   "cell_type": "code",
   "execution_count": null,
   "metadata": {},
   "outputs": [],
   "source": []
  }
 ],
 "metadata": {
  "kernelspec": {
   "display_name": "lisa-dm-fom",
   "language": "python",
   "name": "lisa-dm-fom"
  },
  "language_info": {
   "codemirror_mode": {
    "name": "ipython",
    "version": 3
   },
   "file_extension": ".py",
   "mimetype": "text/x-python",
   "name": "python",
   "nbconvert_exporter": "python",
   "pygments_lexer": "ipython3",
   "version": "3.7.9"
  }
 },
 "nbformat": 4,
 "nbformat_minor": 4
}
